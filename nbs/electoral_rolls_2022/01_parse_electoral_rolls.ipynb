{
 "cells": [
  {
   "cell_type": "markdown",
   "id": "b474de67",
   "metadata": {},
   "source": [
    "# Parse Electoral Rolls, 2022"
   ]
  },
  {
   "cell_type": "code",
   "execution_count": null,
   "id": "4bc2f553",
   "metadata": {},
   "outputs": [],
   "source": []
  },
  {
   "cell_type": "code",
   "execution_count": null,
   "id": "8a58f098",
   "metadata": {},
   "outputs": [],
   "source": []
  },
  {
   "cell_type": "markdown",
   "id": "c295d0b8",
   "metadata": {},
   "source": [
    "\n",
    "## Workflow\n",
    "\n",
    "The final electoral rolls for the 2022 BBMP elections were uploaded on the website http://knowyourbooth.in/ in a large number of PDF files. With this notebook, we want to explore parsing these PDF files to convert them into easy to search and manage CSV files. Below are the steps in the workflow:\n",
    "\n",
    "### Step 1. List electoral rolls\n",
    "\n",
    "On the page http://knowyourbooth.in/Final use the filters for District, Assembly and Ward to get electoral rolls for all part numbers in a ward. The image below lists all the electoral rolls in ward __240 Vinayakanagar__.\n",
    "\n",
    "![](./images/step_1_list_electoral_rolls.png)\n",
    "\n",
    "### Step 2. Download an electoral roll\n",
    "\n",
    "Post clicking on the required electoral roll, the page reloads with a Captcha which needs to be filled post which cllicking on the __Click to View PDF__ will download the electoral rolls for the part number of choice as a PDF file.\n",
    "\n",
    "![](./images/step_2_download_an_electoral_roll.png)\n",
    "\n",
    "### Step 3. View electoral roll\n",
    "\n",
    "Below is how the first page looks like with the actual electoral rolls on subsequent pages.\n",
    "\n",
    "![](./images/step_3_view_electoral_roll.png)\n",
    "\n",
    "From a structure of the dataset point of view, the hierarcy is below. Which means, one way to name the downloaded electoral rolls is in a simular format to reflect this structure, `ac75_w240_pn1.pdf`\n",
    "1. Assembly constituency: 75\n",
    "2. Ward: 240\n",
    "3. Part number: 1\n",
    "\n",
    "![](./images/electoral_rolls_structure.png)\n"
   ]
  },
  {
   "cell_type": "code",
   "execution_count": null,
   "id": "278eb2d3",
   "metadata": {},
   "outputs": [],
   "source": []
  },
  {
   "cell_type": "code",
   "execution_count": null,
   "id": "9d6d67b9",
   "metadata": {},
   "outputs": [],
   "source": []
  },
  {
   "cell_type": "markdown",
   "id": "f8f5426d",
   "metadata": {},
   "source": [
    "## Dependencies\n",
    "\n",
    "- [poppler/poppler](https://gitlab.freedesktop.org/poppler/poppler): Rendering PDF files and examining or modifying their structure.\n",
    "- [Belval/pdf2image](https://github.com/Belval/pdf2image): Convert PDF to a PIL Image object.\n",
    "- [madmaze/pytesseract](https://github.com/madmaze/pytesseract): Optical character recognition (OCR) tool."
   ]
  },
  {
   "cell_type": "code",
   "execution_count": null,
   "id": "17a2b4cf",
   "metadata": {},
   "outputs": [],
   "source": [
    "import re\n",
    "from pathlib import Path\n",
    "\n",
    "import numpy as np\n",
    "import pandas as pd\n",
    "import matplotlib.pyplot as plt\n",
    "\n",
    "from PIL import Image, ImageOps\n",
    "from pdf2image import convert_from_path\n",
    "from pytesseract import pytesseract\n",
    "\n",
    "from tqdm.notebook import tqdm"
   ]
  },
  {
   "cell_type": "code",
   "execution_count": null,
   "id": "5e0489d0",
   "metadata": {},
   "outputs": [
    {
     "name": "stdout",
     "output_type": "stream",
     "text": [
      "Number of pages in the PDF: 62\n"
     ]
    }
   ],
   "source": [
    "# Read one of the PDF files with electoral rolls.\n",
    "electoral_rolls = convert_from_path('./pdfs/ac151_w90_pn1.pdf', dpi=500, fmt='jpg')\n",
    "print('Number of pages in the PDF: {}'.format(len(electoral_rolls)))"
   ]
  },
  {
   "cell_type": "code",
   "execution_count": null,
   "id": "62052237",
   "metadata": {},
   "outputs": [],
   "source": []
  },
  {
   "cell_type": "code",
   "execution_count": null,
   "id": "eeff557f",
   "metadata": {},
   "outputs": [],
   "source": []
  },
  {
   "cell_type": "code",
   "execution_count": null,
   "id": "ec9b8a45",
   "metadata": {},
   "outputs": [
    {
     "name": "stdout",
     "output_type": "stream",
     "text": [
      "Assembly Constituency No and Name : 175-Bommanahalli\n",
      "\n",
      "Section No and Name : 1-Soma Sundara Palya.\n",
      "\n",
      "UHN7876014\n",
      "Name. YP SUMITHRA\n",
      "Husband's Name. VASANTHAMURTHY\n",
      "MC\n",
      "House Number 11. NEAR SAI PURVA\n",
      "APTS\n",
      "Age: 48 Gender. FEMALE\n",
      "\n",
      "Photo is\n",
      "Available\n",
      "\n",
      "UHN3033\n"
     ]
    }
   ],
   "source": [
    "def clean_image(image):\n",
    "    \"\"\"Clean an image for better OCR detection.\n",
    "    \n",
    "    Ref: https://tesseract-ocr.github.io/tessdoc/ImproveQuality.html\n",
    "    \"\"\"\n",
    "    \n",
    "    # Counter the images into a numpy array.\n",
    "    pixels = np.array(image)\n",
    "    \n",
    "    # Binarization of the pixels to improve OCR detection.\n",
    "    threshold = 120\n",
    "    pixels[pixels > threshold] = 255 # Set all pixels greater than the threshold to white.\n",
    "    pixels[pixels < threshold] = 0 # Set all pixels less than the threshold to black.\n",
    "\n",
    "    return pixels\n",
    "\n",
    "# Cleanup the image and extra text from the image using Tesseract.\n",
    "text = pytesseract.image_to_string(clean_image(electoral_rolls[2]))\n",
    "print(text[:250])"
   ]
  },
  {
   "cell_type": "code",
   "execution_count": null,
   "id": "01774533",
   "metadata": {},
   "outputs": [],
   "source": []
  },
  {
   "cell_type": "code",
   "execution_count": null,
   "id": "b0aa8eb5",
   "metadata": {},
   "outputs": [],
   "source": []
  },
  {
   "cell_type": "markdown",
   "id": "168638cd",
   "metadata": {},
   "source": [
    "## Structured PDF\n",
    "\n",
    "OCR detection on the PDF file is able to extract the voter details like name, gender, etc but not the EPIC number, the primary challenge being the __underline below the EPIC number__. One solution to this problem is to cleanup the area around the EPIC number with appropriate padding so that OCR detection is done in a low-noise environment.\n",
    "\n",
    "| Input | Image | OCR detection | Correct (Yes/No) | \n",
    "| --- | --- | --- | --- |\n",
    "| Raw | ![](./images/epic_input_raw.png) | 7 | ❌ |\n",
    "| Cropped + Padded | ![](./images/epic_input_cropped_and_padded.png) | WaJES58865 | ❌ |\n",
    "| Manual review | - | __UZJ6358865__ | ✅ |\n",
    "| Online tool | Upload `after.png` on https://www.imagetotext.info/ | UZJ6358865 | ✅ |\n",
    "\n",
    "NOTE: The OCR after the crop + pad step is not right, but it's significantly better when compared to the detection on the raw image."
   ]
  },
  {
   "cell_type": "code",
   "execution_count": null,
   "id": "ff5513d5",
   "metadata": {},
   "outputs": [
    {
     "data": {
      "image/png": "[encoded data removed]",
      "text/plain": [
       "<PIL.Image.Image image mode=RGB size=1000x250>"
      ]
     },
     "execution_count": null,
     "metadata": {},
     "output_type": "execute_result"
    }
   ],
   "source": [
    "def crop_image(image, original=False):\n",
    "    \"\"\"Crop image to work with parts of a large image.\n",
    "    \n",
    "    WIP: Only one voter details are currently cropped and returned.\n",
    "    \"\"\"\n",
    "    \n",
    "    # The amount of padding around the EPIC number.\n",
    "    padding = 100\n",
    "    \n",
    "    # Convert the image into a numpy array.\n",
    "    pixels = np.array(image)\n",
    "    \n",
    "    # Return the original image without the careful cropping and padding.\n",
    "    if original:\n",
    "        cropped_image = pixels[490-padding:540+padding, 1060-padding:1360+padding, :]\n",
    "        return cropped_image\n",
    "    \n",
    "    # Step 1. Extract the exact location of the EPIC number.\n",
    "    cropped_image = pixels[490:540, 1060:1360, :]\n",
    "    \n",
    "    # Step 2. Add extra padding on the top and bottom.\n",
    "    cropped_image = np.concatenate([\n",
    "        pixels[:padding, 1060:1360, :],\n",
    "        cropped_image,\n",
    "        pixels[:padding, 1060:1360, :]\n",
    "    ], axis=0)\n",
    "    \n",
    "    # Step 3. Add extra padding on the left and right.\n",
    "    cropped_image = np.concatenate([\n",
    "        pixels[:cropped_image.shape[0], :padding, :],\n",
    "        cropped_image,\n",
    "        pixels[:cropped_image.shape[0], :padding, :]\n",
    "    ], axis=1)\n",
    "    \n",
    "    return cropped_image\n",
    "\n",
    "# Get the cropped image in the original form.\n",
    "image_before = Image.fromarray(crop_image(clean_image(electoral_rolls[2]), original=True))\n",
    "image_before.save(Path(Path.home(), 'Desktop/before.png'))\n",
    "\n",
    "# Get the cropped image in the cleaned up form.\n",
    "image_after = Image.fromarray(crop_image(clean_image(electoral_rolls[2]), original=False))\n",
    "image_after.save(Path(Path.home(), 'Desktop/after.png'))\n",
    "\n",
    "# Combine the two images into one image for top-down comparison with a border for understanding.\n",
    "image = Image.fromarray(np.concatenate([np.array(image_before), np.array(image_after)], axis=1))\n",
    "image"
   ]
  },
  {
   "cell_type": "code",
   "execution_count": null,
   "id": "11b30ff9",
   "metadata": {},
   "outputs": [
    {
     "name": "stdout",
     "output_type": "stream",
     "text": [
      "7, WaJES58865\n"
     ]
    }
   ],
   "source": [
    "# What are the OCR extracts for the two images, before and after! 🎉\n",
    "print('{}, {}'.format(\n",
    "    pytesseract.image_to_string(clean_image(image_before)).strip(),\n",
    "    pytesseract.image_to_string(clean_image(image_after)).strip()\n",
    "))"
   ]
  },
  {
   "cell_type": "code",
   "execution_count": null,
   "id": "cd97a210",
   "metadata": {},
   "outputs": [],
   "source": []
  },
  {
   "cell_type": "code",
   "execution_count": null,
   "id": "882dc015",
   "metadata": {},
   "outputs": [],
   "source": []
  },
  {
   "cell_type": "markdown",
   "id": "cf7df85a",
   "metadata": {},
   "source": [
    "## Extract EPIC numbers"
   ]
  },
  {
   "cell_type": "code",
   "execution_count": null,
   "id": "54f203de",
   "metadata": {},
   "outputs": [
    {
     "name": "stdout",
     "output_type": "stream",
     "text": [
      "Number of pages in PDF: 40\n"
     ]
    }
   ],
   "source": [
    "# Read PDF file with voter details and print the number pages.\n",
    "directory = Path('./pdfs/')\n",
    "filename = Path(directory, 'ceo_karnataka', 'chinmaya_218.pdf')\n",
    "\n",
    "electoral_roll_images = convert_from_path(str(filename), dpi=500, fmt='jpg')\n",
    "print('Number of pages in PDF: {}'.format(len(electoral_roll_images)))"
   ]
  },
  {
   "cell_type": "code",
   "execution_count": null,
   "id": "4573195b",
   "metadata": {},
   "outputs": [
    {
     "data": {
      "application/vnd.jupyter.widget-view+json": {
       "model_id": "0abc07ee25e44288a88dbdabb7c9e3c6",
       "version_major": 2,
       "version_minor": 0
      },
      "text/plain": [
       "  0%|          | 0/40 [00:00<?, ?it/s]"
      ]
     },
     "metadata": {},
     "output_type": "display_data"
    },
    {
     "name": "stdout",
     "output_type": "stream",
     "text": [
      "(946, 1)\n"
     ]
    },
    {
     "data": {
      "text/html": [
       "<div>\n",
       "<style scoped>\n",
       "    .dataframe tbody tr th:only-of-type {\n",
       "        vertical-align: middle;\n",
       "    }\n",
       "\n",
       "    .dataframe tbody tr th {\n",
       "        vertical-align: top;\n",
       "    }\n",
       "\n",
       "    .dataframe thead th {\n",
       "        text-align: right;\n",
       "    }\n",
       "</style>\n",
       "<table border=\"1\" class=\"dataframe\">\n",
       "  <thead>\n",
       "    <tr style=\"text-align: right;\">\n",
       "      <th></th>\n",
       "      <th>epic</th>\n",
       "    </tr>\n",
       "  </thead>\n",
       "  <tbody>\n",
       "    <tr>\n",
       "      <th>0</th>\n",
       "      <td>UHN6188072</td>\n",
       "    </tr>\n",
       "    <tr>\n",
       "      <th>1</th>\n",
       "      <td>UHN6882559</td>\n",
       "    </tr>\n",
       "    <tr>\n",
       "      <th>2</th>\n",
       "      <td>UHN6882500</td>\n",
       "    </tr>\n",
       "    <tr>\n",
       "      <th>3</th>\n",
       "      <td>UHN6882542</td>\n",
       "    </tr>\n",
       "    <tr>\n",
       "      <th>4</th>\n",
       "      <td>UHN5666482</td>\n",
       "    </tr>\n",
       "  </tbody>\n",
       "</table>\n",
       "</div>"
      ],
      "text/plain": [
       "         epic\n",
       "0  UHN6188072\n",
       "1  UHN6882559\n",
       "2  UHN6882500\n",
       "3  UHN6882542\n",
       "4  UHN5666482"
      ]
     },
     "execution_count": null,
     "metadata": {},
     "output_type": "execute_result"
    }
   ],
   "source": [
    "epics = []\n",
    "for electoral_roll_image in tqdm(electoral_roll_images):\n",
    "    \n",
    "    # Extract all detectable text on the page.\n",
    "    electoral_roll_text = pytesseract.image_to_string(clean_image(electoral_roll_image))\n",
    "    \n",
    "    # Using regular expression, extract all EPIC numbers and append to list.\n",
    "    # The assumption here is that all EPIC numbers being 3 characters and end with 7 numbers.\n",
    "    epics += re.findall(r'[A-Z]{3}[0-9]{7}', electoral_roll_text)\n",
    "\n",
    "# Convert from a list to a Pandas DataFrame and drop the duplicates.\n",
    "epics = pd.DataFrame({'epic': epics}).drop_duplicates().reset_index(drop=True)\n",
    "\n",
    "print(epics.shape)\n",
    "epics.head()"
   ]
  },
  {
   "cell_type": "code",
   "execution_count": null,
   "id": "768188c3",
   "metadata": {},
   "outputs": [],
   "source": [
    "# Write as CSV into the output directory.\n",
    "output_directory = Path('./csvs/')\n",
    "filename = Path(output_directory, 'ceo_karnataka', 'chinmaya_218.csv')\n",
    "epics.to_csv(filename, index=False)"
   ]
  },
  {
   "cell_type": "code",
   "execution_count": null,
   "id": "f38f8817",
   "metadata": {},
   "outputs": [],
   "source": []
  },
  {
   "cell_type": "code",
   "execution_count": null,
   "id": "3d19ef8a",
   "metadata": {},
   "outputs": [],
   "source": []
  },
  {
   "cell_type": "code",
   "execution_count": null,
   "id": "7e470fca",
   "metadata": {},
   "outputs": [],
   "source": []
  }
 ],
 "metadata": {
  "kernelspec": {
   "display_name": "Python 3 (ipykernel)",
   "language": "python",
   "name": "python3"
  }
 },
 "nbformat": 4,
 "nbformat_minor": 5
}
