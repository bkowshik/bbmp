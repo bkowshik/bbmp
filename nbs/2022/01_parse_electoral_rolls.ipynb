{
 "cells": [
  {
   "cell_type": "markdown",
   "id": "b474de67",
   "metadata": {},
   "source": [
    "# Parse Electoral Rolls, 2022"
   ]
  },
  {
   "cell_type": "code",
   "execution_count": null,
   "id": "4bc2f553",
   "metadata": {},
   "outputs": [],
   "source": []
  },
  {
   "cell_type": "code",
   "execution_count": null,
   "id": "8a58f098",
   "metadata": {},
   "outputs": [],
   "source": []
  },
  {
   "cell_type": "markdown",
   "id": "c295d0b8",
   "metadata": {},
   "source": [
    "## Workflow\n",
    "\n",
    "The final electoral rolls for the 2022 BBMP elections were uploaded on the website http://knowyourbooth.in/ in a large number of PDF files. With this notebook, we want to explore parsing these PDF files to convert them into easy to search and manage CSV files. Below are the steps in the workflow:\n",
    "\n",
    "### Step 1. List electoral rolls\n",
    "\n",
    "On the page http://knowyourbooth.in/Final use the filters for District, Assembly and Ward to get electoral rolls for all part numbers in a ward. The image below lists all the electoral rolls in ward __240 Vinayakanagar__.\n",
    "\n",
    "![](./step_1_list_electoral_rolls.png)\n",
    "\n",
    "### Step 2. Download an electoral roll\n",
    "\n",
    "Post clicking on the required electoral roll, the page reloads with a Captcha which needs to be filled post which cllicking on the __Click to View PDF__ will download the electoral rolls for the part number of choice as a PDF file.\n",
    "\n",
    "![](./step_2_download_an_electoral_roll.png)\n",
    "\n",
    "### Step 3. View electoral roll\n",
    "\n",
    "Below is how the first page looks like with the actual electoral rolls on subsequent pages.\n",
    "\n",
    "![](./step_3_view_electoral_roll.png)\n",
    "\n",
    "From a structure of the dataset point of view, the hierarcy is below. Which means, one way to name the downloaded electoral rolls is in a simular format to reflect this structure, `ac75_w240_pn1.pdf`\n",
    "1. Assembly constituency: 75\n",
    "2. Ward: 240\n",
    "3. Part number: 1\n",
    "\n",
    "![](./electoral_rolls_structure.png)\n"
   ]
  },
  {
   "cell_type": "code",
   "execution_count": null,
   "id": "278eb2d3",
   "metadata": {},
   "outputs": [],
   "source": []
  },
  {
   "cell_type": "code",
   "execution_count": null,
   "id": "9d6d67b9",
   "metadata": {},
   "outputs": [],
   "source": []
  }
 ],
 "metadata": {
  "kernelspec": {
   "display_name": "Python 3 (ipykernel)",
   "language": "python",
   "name": "python3"
  }
 },
 "nbformat": 4,
 "nbformat_minor": 5
}
